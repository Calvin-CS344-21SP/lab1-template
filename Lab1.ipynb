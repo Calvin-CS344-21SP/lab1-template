{
 "cells": [
  {
   "cell_type": "markdown",
   "metadata": {},
   "source": [
    "# Lab 1"
   ]
  },
  {
   "cell_type": "markdown",
   "metadata": {},
   "source": [
    "We're going to start with the cat-vs-dog classifier that we built in chapter 1 and try changing a few things.\n",
    "\n",
    "Before we get started, discuss with your partner how you think each one of these changes would change the performance of the classifier. Write your answers below.\n",
    "\n",
    "> Train the model on less data"
   ]
  },
  {
   "cell_type": "markdown",
   "metadata": {},
   "source": [
    "*your answer here*"
   ]
  },
  {
   "cell_type": "markdown",
   "metadata": {},
   "source": [
    "> Use an architecture with fewer layers"
   ]
  },
  {
   "cell_type": "markdown",
   "metadata": {},
   "source": [
    "*your answer here*"
   ]
  },
  {
   "cell_type": "markdown",
   "metadata": {},
   "source": [
    "> Have it predict the breed of pet instead of just cat/dog."
   ]
  },
  {
   "cell_type": "markdown",
   "metadata": {},
   "source": [
    "*your answer here*"
   ]
  },
  {
   "cell_type": "markdown",
   "metadata": {},
   "source": [
    "Now let's start. You might see a task like this:\n",
    "\n",
    "> Train a classifier to distinguish between images of cats and dogs.\n",
    "> \n",
    "> * Use the [Oxford-IIIT Pet Dataset](http://www.robots.ox.ac.uk/~vgg/data/pets/).\n",
    "> * Fine-tune a 34-layer ResNet model for 1 epoch\n",
    "> * Report the error rate on a held-out validation set of 20% of the data.\n",
    "\n",
    "The first code block from chapter 1 accomplishes this task. Retype or copy-paste it here, but add some comments if you haven't already:"
   ]
  },
  {
   "cell_type": "code",
   "execution_count": null,
   "metadata": {},
   "outputs": [],
   "source": [
    "from fastai.vision.all import *\n",
    "path = untar_data(URLs.PETS)/'images'\n",
    "\n",
    "# Your code here. Include a comment indicating what each line does."
   ]
  },
  {
   "cell_type": "markdown",
   "metadata": {},
   "source": [
    "**Question**: Use `learn.fine_tune?` to bring up the documentation. Based on that:\n",
    "\n",
    "1. What does the \"1\" parameter to `fine_tune` do?\n",
    "2. What do you think the two different progress bars probably represent?"
   ]
  },
  {
   "cell_type": "markdown",
   "metadata": {},
   "source": [
    "**Question**: Give an example filename for one of the images in the dataset. Does the dataset label it as a cat or a dog? How can you tell?"
   ]
  },
  {
   "cell_type": "code",
   "execution_count": 1,
   "metadata": {},
   "outputs": [],
   "source": [
    "# your code here"
   ]
  },
  {
   "cell_type": "markdown",
   "metadata": {},
   "source": [
    "**Question**: How many images were in the training set? Validation set? (How can you easily tell?)"
   ]
  },
  {
   "cell_type": "code",
   "execution_count": 2,
   "metadata": {},
   "outputs": [],
   "source": [
    "# your code here"
   ]
  },
  {
   "cell_type": "markdown",
   "metadata": {},
   "source": [
    "*Your response here. You may need to write a tiny bit of code.*"
   ]
  },
  {
   "cell_type": "markdown",
   "metadata": {},
   "source": [
    "**Question**: About how many of those images were classified correctly?"
   ]
  },
  {
   "cell_type": "markdown",
   "metadata": {},
   "source": [
    "*Your response here.*"
   ]
  },
  {
   "cell_type": "markdown",
   "metadata": {},
   "source": [
    "\n",
    "\n",
    "**Question**: What is the output of the model?\n",
    "\n",
    "1. whether the image contains one cat (`True`) or many cats (`False`)\n",
    "2. whether the image contains a cat (`True`) or a dog (`False`)\n",
    "3. what breed of cat or dog is in the image (`British_Shorthair`, `chihuahua`, etc.)\n",
    "4. the name of the animal in the image (`Fido`, `Whiskers`, etc.)"
   ]
  },
  {
   "cell_type": "markdown",
   "metadata": {},
   "source": [
    "**Exercise**: Use an 18-layer ResNet instead (`resnet18`). How does the error rate compare?"
   ]
  },
  {
   "cell_type": "code",
   "execution_count": 3,
   "metadata": {},
   "outputs": [],
   "source": [
    "# yor code here"
   ]
  },
  {
   "cell_type": "markdown",
   "metadata": {},
   "source": [
    "Consider the We just changed the *architecture*, but not anything else. We could also change:\n",
    "\n",
    "* The *data*: give it different images (or more or fewer of the same images)\n",
    "* The *task*: have it try to predict something different\n",
    "* The *hyperparameters*: train it a different way, e.g., let it train longer (more epochs) or adjust itself faster (higher learning rate)\n",
    "\n",
    "Let's change the data.\n",
    "\n",
    "**Exercise**: Hold out 90% (instead of 20%) of the data for validation. (How many images will the training set have now?) How does the accuracy compare?\n",
    "\n",
    "(*Think*: Should you use the resnet18 or the resnet34 model here? What are the pros and cons?)"
   ]
  },
  {
   "cell_type": "code",
   "execution_count": 4,
   "metadata": {},
   "outputs": [],
   "source": [
    "# your code here"
   ]
  },
  {
   "cell_type": "markdown",
   "metadata": {},
   "source": [
    "**Question**: How might we change the *task*? That is, what different things could we have the model output?\n",
    "\n",
    "Think about that for a moment.\n",
    "\n",
    ".\n",
    "\n",
    ".\n",
    "\n",
    ".\n",
    "\n",
    "The model's outputs are (generally) determined by what sort of *labels* we have for our data. Let's have a look at what the files are named. We could open up our data directory, or we could look in Python."
   ]
  },
  {
   "cell_type": "code",
   "execution_count": 8,
   "metadata": {},
   "outputs": [
    {
     "data": {
      "text/plain": [
       "['scottish_terrier_29.jpg',\n",
       " 'pug_36.jpg',\n",
       " 'basset_hound_189.jpg',\n",
       " 'boxer_168.jpg',\n",
       " 'pomeranian_86.jpg',\n",
       " 'pomeranian_9.jpg',\n",
       " 'boxer_15.jpg',\n",
       " 'Abyssinian_123.jpg',\n",
       " 'Siamese_171.jpg',\n",
       " 'samoyed_20.jpg']"
      ]
     },
     "execution_count": 8,
     "metadata": {},
     "output_type": "execute_result"
    }
   ],
   "source": [
    "[o.name for o in get_image_files(path)][:10] # show only the first 10"
   ]
  },
  {
   "cell_type": "code",
   "execution_count": 9,
   "metadata": {},
   "outputs": [
    {
     "data": {
      "text/plain": [
       "(#7390) ['scottish_terrier_29.jpg','pug_36.jpg','basset_hound_189.jpg','boxer_168.jpg','pomeranian_86.jpg','pomeranian_9.jpg','boxer_15.jpg','Abyssinian_123.jpg','Siamese_171.jpg','samoyed_20.jpg'...]"
      ]
     },
     "execution_count": 9,
     "metadata": {},
     "output_type": "execute_result"
    }
   ],
   "source": [
    "# Aside: fastai added a nice trick that makes this easy:\n",
    "get_image_files(path).attrgot('name')"
   ]
  },
  {
   "cell_type": "markdown",
   "metadata": {},
   "source": [
    "So it looks like we should be able to get the *breed* pretty easily. All we need to do is strip off everything after the last underscore. (Is this exercise familiar?)\n",
    "\n",
    "These names are passed to the `name_func`. So all we need to do is strip off the number and file extension at the end to get the breed.\n",
    "\n",
    "**Exercise**: Write a function called `get_breed` that takes a string and strips off everything after the last underscore."
   ]
  },
  {
   "cell_type": "code",
   "execution_count": 5,
   "metadata": {},
   "outputs": [],
   "source": [
    "# your code here"
   ]
  },
  {
   "cell_type": "markdown",
   "metadata": {},
   "source": [
    "Now let's test that function."
   ]
  },
  {
   "cell_type": "code",
   "execution_count": null,
   "metadata": {},
   "outputs": [],
   "source": [
    "# When a Python expression gets complicated, I like to spread it onto multiple lines.\n",
    "# Often an expression is already inside some parentheses so you can just press Enter,\n",
    "# but for \"top-level\" expressions we need this trick of surrounding the whole thing in parens.\n",
    "# Aside from the attrot and map, this is just standard Python here, no special magic.\n",
    "(\n",
    "    get_image_files(path)\n",
    "    .attrgot('name')\n",
    "    .map(get_breed)\n",
    ")"
   ]
  },
  {
   "cell_type": "markdown",
   "metadata": {},
   "source": [
    "Let's check how many of each breed we have."
   ]
  },
  {
   "cell_type": "code",
   "execution_count": 27,
   "metadata": {},
   "outputs": [
    {
     "data": {
      "text/plain": [
       "Counter({'Ragdoll': 200,\n",
       "         'newfoundland': 200,\n",
       "         'pomeranian': 200,\n",
       "         'Bengal': 200,\n",
       "         'Russian_Blue': 200,\n",
       "         'samoyed': 200,\n",
       "         'British_Shorthair': 200,\n",
       "         'german_shorthaired': 200,\n",
       "         'english_cocker_spaniel': 200,\n",
       "         'Egyptian_Mau': 200,\n",
       "         'keeshond': 200,\n",
       "         'Maine_Coon': 200,\n",
       "         'staffordshire_bull_terrier': 191,\n",
       "         'american_pit_bull_terrier': 200,\n",
       "         'Siamese': 200,\n",
       "         'Persian': 200,\n",
       "         'Sphynx': 200,\n",
       "         'Abyssinian': 200,\n",
       "         'basset_hound': 200,\n",
       "         'beagle': 200,\n",
       "         'great_pyrenees': 200,\n",
       "         'american_bulldog': 200,\n",
       "         'havanese': 200,\n",
       "         'chihuahua': 200,\n",
       "         'Bombay': 200,\n",
       "         'leonberger': 200,\n",
       "         'saint_bernard': 200,\n",
       "         'japanese_chin': 200,\n",
       "         'wheaten_terrier': 200,\n",
       "         'miniature_pinscher': 200,\n",
       "         'pug': 200,\n",
       "         'boxer': 200,\n",
       "         'yorkshire_terrier': 200,\n",
       "         'english_setter': 200,\n",
       "         'Birman': 200,\n",
       "         'shiba_inu': 200,\n",
       "         'scottish_terrier': 199})"
      ]
     },
     "execution_count": 27,
     "metadata": {},
     "output_type": "execute_result"
    }
   ],
   "source": [
    "Counter(\n",
    "    get_image_files(path)\n",
    "    .attrgot('name')\n",
    "    .map(get_breed)\n",
    ")"
   ]
  },
  {
   "cell_type": "markdown",
   "metadata": {},
   "source": [
    "Now, let's change the model to output the breed instead of whether or not the thing is a cat.\n",
    "\n",
    "**Predict**: Will the accuracy number go up or down? Why?\n",
    "\n",
    "**Exercise**: Go back to the initial setup (ResNet-34 model and full dataset), but instead of predicting cat vs dog, now predict breed."
   ]
  },
  {
   "cell_type": "code",
   "execution_count": 12,
   "metadata": {},
   "outputs": [],
   "source": [
    "# your code here"
   ]
  },
  {
   "cell_type": "markdown",
   "metadata": {},
   "source": [
    "**Reflect**: What accuracy do you get with this classifier? Is it better or worse? How can you tell?"
   ]
  },
  {
   "cell_type": "markdown",
   "metadata": {},
   "source": []
  },
  {
   "cell_type": "markdown",
   "metadata": {},
   "source": [
    "# Open-ended!"
   ]
  },
  {
   "cell_type": "markdown",
   "metadata": {},
   "source": [
    "If you got through that quickly, now try one or two more experiments of your own choice. For example, you might try changing a hyperparameter (epochs, learning rate, ...), try a different dataset size, try different random seeds, ..."
   ]
  },
  {
   "cell_type": "markdown",
   "metadata": {},
   "source": [
    "# Summarize\n",
    "\n",
    "1. Write a short summary of the results of all of the experiments you performed in this lab.\n",
    "2. Reflect on how confident you are that each of those comparisons didn't just happen by chance. Also reflect on which of the results would be likely to generalize to other tasks."
   ]
  },
  {
   "cell_type": "markdown",
   "metadata": {},
   "source": [
    "# Wrap-up"
   ]
  },
  {
   "cell_type": "markdown",
   "metadata": {},
   "source": [
    "* Make sure you Save this notebook.\n",
    "* From the Kernel menu, select \"Restart and Run All\". This will take a few minutes, but will ensure that all of your code still runs. Double-check that your results still make sense.\n",
    "* Commit and push. Check that your notebook is visible on GitHub."
   ]
  }
 ],
 "metadata": {
  "kernelspec": {
   "display_name": "Python 3",
   "language": "python",
   "name": "python3"
  },
  "language_info": {
   "codemirror_mode": {
    "name": "ipython",
    "version": 3
   },
   "file_extension": ".py",
   "mimetype": "text/x-python",
   "name": "python",
   "nbconvert_exporter": "python",
   "pygments_lexer": "ipython3",
   "version": "3.8.5"
  }
 },
 "nbformat": 4,
 "nbformat_minor": 4
}
